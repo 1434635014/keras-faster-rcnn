{
 "cells": [
  {
   "cell_type": "code",
   "execution_count": 21,
   "metadata": {},
   "outputs": [],
   "source": [
    "# anchor的理解和实现\n",
    "\n",
    "import numpy as np\n",
    "import matplotlib.pyplot as plt\n",
    "import matplotlib.patches as patches\n",
    "\n",
    "%matplotlib inline\n",
    "\n",
    "# feature map 的尺寸\n",
    "size_Y = 16\n",
    "size_X = 16\n",
    "# 原始图片到feature map 的缩放比 \n",
    "rpn_stride = 8          ## 原始图片尺寸 16 * 8 = 128\n",
    "scales = [1, 2, 4]      # anchor的3种尺寸\n",
    "ratios = [0.5, 1, 2]    # anchor的3种长宽比例"
   ]
  },
  {
   "cell_type": "code",
   "execution_count": 22,
   "metadata": {},
   "outputs": [],
   "source": [
    "def anchor_gen(size_X, size_Y, rpn_stride, scales, ratios):\n",
    "    scales, ratios = np.meshgrid(scales, ratios)\n",
    "    scales, ratios = scales.flatten(), ratios.flatten()\n",
    "\n",
    "    scalesY = scales * np.sqrt(ratios)\n",
    "    scalesX = scales / np.sqrt(ratios)\n",
    "    # 原始图片上的点\n",
    "    shiftX = np.arange(0, size_X) * rpn_stride\n",
    "    shiftY = np.arange(0, size_Y) * rpn_stride\n",
    "    \n",
    "    shiftX, shiftY = np.meshgrid(shiftX, shiftY)\n",
    "\n",
    "    centerX, anchorX = np.meshgrid(shiftX, scalesX)\n",
    "    centerY, anchorY = np.meshgrid(shiftY, scalesY)\n",
    "\n",
    "    anchor_center = np.stack([centerY, centerX], axis=2).reshape(-1, 2)\n",
    "    anchor_size = np.stack([anchorY, anchorX], axis=2).reshape(-1, 2)\n",
    "\n",
    "    boxes = np.concatenate([anchor_center - 0.5 * anchor_size,\n",
    "        anchor_center + 0.5 * anchor_size ], axis=1)\n",
    "    return boxes"
   ]
  },
  {
   "cell_type": "code",
   "execution_count": 23,
   "metadata": {},
   "outputs": [
    {
     "name": "stdout",
     "output_type": "stream",
     "text": [
      "(2304, 4)\n"
     ]
    }
   ],
   "source": [
    "\n",
    "anchors = anchor_gen(size_X, size_Y, rpn_stride, scales, ratios)\n",
    "print(boxes.shape)"
   ]
  },
  {
   "cell_type": "code",
   "execution_count": 24,
   "metadata": {},
   "outputs": [
    {
     "data": {
      "image/png": "[encoded data removed]",
      "text/plain": [
       "<Figure size 720x720 with 1 Axes>"
      ]
     },
     "metadata": {
      "needs_background": "light"
     },
     "output_type": "display_data"
    }
   ],
   "source": [
    "plt.figure(figsize=[10, 10])\n",
    "img = np.ones((128, 128, 3))\n",
    "plt.imshow(img)\n",
    "Axs = plt.gca() ## get current Axs\n",
    "\n",
    "for i in range(anchors.shape[0]):\n",
    "    box = anchors[i]\n",
    "    rec = patches.Rectangle((box[0], box[1]), box[2]-box[0], box[3]-box[1], edgecolor=\"r\", facecolor=\"none\")\n",
    "    Axs.add_patch(rec)"
   ]
  },
  {
   "cell_type": "code",
   "execution_count": null,
   "metadata": {},
   "outputs": [],
   "source": []
  }
 ],
 "metadata": {
  "kernelspec": {
   "display_name": "Python 3",
   "language": "python",
   "name": "python3"
  },
  "language_info": {
   "codemirror_mode": {
    "name": "ipython",
    "version": 3
   },
   "file_extension": ".py",
   "mimetype": "text/x-python",
   "name": "python",
   "nbconvert_exporter": "python",
   "pygments_lexer": "ipython3",
   "version": "3.7.4"
  }
 },
 "nbformat": 4,
 "nbformat_minor": 2
}
